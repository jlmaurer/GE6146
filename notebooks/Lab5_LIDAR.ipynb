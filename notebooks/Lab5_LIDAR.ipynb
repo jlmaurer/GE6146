{
 "cells": [
  {
   "cell_type": "markdown",
   "metadata": {},
   "source": [
    "# Lab 5 - LiDAR\n",
    "In this lab you will focus on using LiDAR to look at earthquake-related displacements on faults in California. \n",
    "\n",
    "The advent of airborne LiDAR has been a boon for studies of fault geomorphology as applied to seismic hazard. Large and well-funded projects have led to the collection of high-resolution topographic data over many of the active faults in the United States and across the globe. The ability to measure returns from the ground, rather than the tops of trees or bushes, is especially useful in vegetated areas. Due to the open data policy of funding agencies such as the National Science Foundation (which funded a lot of the data collection efforts), we can access the full resolution data ourselves, from the __[OpenTopography online portal](https://opentopography.org/)__.\n",
    "\n",
    "This unit will have two elements. First, we will briefly learn to interpret geomorphic features associated with strike-slip faulting and use the different scales and ages of offset features on one part of the San Andreas Fault to estimate both a slip rate and a recent slip history of large earthquakes using LiDAR and optical data in Google Earth. Second, we will use the __[topographic differencing tool](https://opentopography.org/blog/demand-3d-topographic-differencing)__ available on OpenTopography's website to look at a subset of displacements that occurred during the recent 2019 Ridgecrest earthquake in California. \n",
    "![OpenTopographyWebsite.png](https://raw.githubusercontent.com/jlmaurer/GE6146/master/notebooks/images/OpenTopographyWebsite.png)"
   ]
  },
  {
   "cell_type": "markdown",
   "metadata": {},
   "source": [
    "## Part 1 - LiDAR Analysis of Wallace Creek, Southern California\n",
    "Wallace Creek (35.271°N -119.827°E) is one of the most famous offset streams in the world, and it is an excellent place to study fault geomorphology. It is located within the Carrizo Plain National Monument, within a segment of the San Andreas fault that is both straight and (relatively) fast moving. We can use this large stream offset, and the smaller offsets of its neighbors, to understand the earthquake history and earthquake potential of this part of the San Andreas.\n",
    "\n",
    "For this analysis we will use a pre-generated KMZ of the LiDAR DEM of Wallace Creek. I have uploaded the DEM to a folder on the shared Google Drive for the course. We will analyze the image in Google Earth. You can either use __[Google Earth on your computer](https://www.google.com/earth/versions/#earth-pro)__, or you can use the __[web-based version](https://earth.google.com/web/)__. \n",
    "![StrikeslipFaultGeoFeatures.jpg](https://raw.githubusercontent.com/jlmaurer/GE6146/master/notebooks/images/WallaceCreekPhoto.jpg)"
   ]
  },
  {
   "cell_type": "markdown",
   "metadata": {},
   "source": [
    "### Identifying geomorphic slip indicators on a strike-slip fault\n",
    "To complete this part of the lab, you will need to identify offset features in the LiDAR dataset that indicate slip on the San Andreas Fault. Some things to keep in mind: \n",
    "- This part of the fault is locked, so offsets represent slip during past earthquakes.\n",
    "- Some streams or features might have slipped in multiple past earthquakes, while others in fewer or only one\n",
    "- Your offset estimates need to be self-consistent and have uncertainty estimates associated with them. For example, measure an offset stream from center to center. \n",
    "![StrikeslipFaultGeoFeatures.png](https://raw.githubusercontent.com/jlmaurer/GE6146/master/notebooks/images/StrikeslipFaultGeoFeatures.png)"
   ]
  },
  {
   "cell_type": "markdown",
   "metadata": {},
   "source": [
    "You will use the \"ruler\" tool in Google Earth to estimate the channel and feature offsets. Sieh and Jahns (1984) estimated that the Wallace Creek offsets have occurred over a period of $3700 \\pm 150$ years. If this is true, what is the _average_ slip rate on the fault? Rate is like velocity, so length/time. Use the total_offset_m and total_time_yrs variables and report your answer in mm/yr. "
   ]
  },
  {
   "cell_type": "code",
   "execution_count": 4,
   "metadata": {},
   "outputs": [],
   "source": [
    "# imports\n",
    "from osgeo import gdal\n",
    "import numpy as np\n",
    "import matplotlib.pyplot as plt"
   ]
  },
  {
   "cell_type": "code",
   "execution_count": 2,
   "metadata": {},
   "outputs": [],
   "source": [
    "total_offset_m = 0. # your value here in meters\n",
    "total_time_yrs = 3700.  # estimated time in years covered by offsets\n",
    "average_rate = 0.   # your value here. "
   ]
  },
  {
   "cell_type": "markdown",
   "metadata": {},
   "source": [
    "Next look at other offsets along the fault and measure them using the ruler tool in Google Earth. These will mostly be smaller offsets. Add your measurements to a numpy array and create a histogram of the results. Change the bin size or number of bins as needed to clearly convey your results."
   ]
  },
  {
   "cell_type": "code",
   "execution_count": 5,
   "metadata": {},
   "outputs": [],
   "source": [
    "small_offsets_m = np.array([]) # add your offset estimates to the array\n",
    "\n",
    "# Create a histogram plot here of your offsets"
   ]
  },
  {
   "cell_type": "markdown",
   "metadata": {},
   "source": [
    "Estimate or measure the slip during a **_single_** earthquake. How should you estimate this? The last earthquake occurred in 1857 and ruptured from central California to the Cajon Pass. In what time frame might we expect a repeat event? "
   ]
  },
  {
   "cell_type": "code",
   "execution_count": 6,
   "metadata": {},
   "outputs": [],
   "source": [
    "slip_single_eq = 0. # Your answer here\n",
    "time_to_build_up_slip = 0. # Your answer here\n",
    "time_next_eq = 0. # Your answer here"
   ]
  },
  {
   "cell_type": "markdown",
   "metadata": {},
   "source": [
    "## Part 2 - Coseismic offsets during the 2019 Ridgecrest earthquake\n",
    "The __[2019 Ridgecrest earthquake sequence](https://en.wikipedia.org/wiki/2019_Ridgecrest_earthquakes)__ occurred on July 4 and 5 (2019) near the town of Ridgecrest, California (about 120 miles north of Los Angeles). This earthquake is the largest earthquake to have occurred in California since the 1999 Hector Mine earthquake 20 years prior. "
   ]
  },
  {
   "cell_type": "markdown",
   "metadata": {},
   "source": [
    "You will need to __[sign up for a free account](https://portal.opentopography.org/newUser)__ on __[OpenTopography.org](https://opentopography.org/)__ if you have not done so yet. In this excercise we will use OpenTopography LiDAR data collected before and after the 2019 Ridgecrest earthquake to look at displacements that occurred during the earthquake. "
   ]
  },
  {
   "cell_type": "markdown",
   "metadata": {},
   "source": [
    "In the companion video to this lab, I show you how to access topography data and choose the relevant dataset. \n",
    "The screenshot below shows the area that we will be looking at. \n",
    "![OpenTopographyWebsite.png](https://raw.githubusercontent.com/jlmaurer/GE6146/master/notebooks/images/OpenTopo_RidgcrestEq.png)\n",
    "\n",
    "**NOTE**: OpenTopography has updated their limit on how large of an area you can download at one time on the free tier, which is now smaller than the size of the full region covered by the lidar data. For the purposes of this lab, you can select a subset of the area which fits within the size of area allowed by the website for processing. I recommend that you select an area towards the center of the region to get results with large displacements that will be visible in the differencing. "
   ]
  },
  {
   "cell_type": "markdown",
   "metadata": {},
   "source": [
    "Once you have selected the relevant datasets, choose the \"Differencing\" tool and then difference the post-earthquake LiDAR from the pre-earthquake data.\n",
    "![OpenTopographyWebsite.png](https://raw.githubusercontent.com/jlmaurer/GE6146/master/notebooks/images/OpenTopo_Differencing.png)"
   ]
  },
  {
   "cell_type": "markdown",
   "metadata": {},
   "source": [
    "Once you start the differencing, you should get an email (if you signed up for an account) once the processing finished and be able to download the resulting .tif file.\n",
    "\n",
    "**Save the .tif file to your shared Google Drive folder in the GE6371 directory**"
   ]
  },
  {
   "cell_type": "markdown",
   "metadata": {},
   "source": [
    "In the cell below, write code to read in the .tif file you created and plot it. Make sure to add axis labels, titles, colorbars, etc. as needed to completely describe your image. "
   ]
  },
  {
   "cell_type": "code",
   "execution_count": null,
   "metadata": {},
   "outputs": [],
   "source": [
    "# Your code here\n",
    "# Hint: use GDAL to read in the image, then you can plot it using imshow. For more help, see\n",
    "# https://stackoverflow.com/questions/41996079/how-do-i-open-geotiff-images-with-gdal-in-python"
   ]
  }
 ],
 "metadata": {
  "kernelspec": {
   "display_name": "Python 3 (ipykernel)",
   "language": "python",
   "name": "python3"
  },
  "language_info": {
   "codemirror_mode": {
    "name": "ipython",
    "version": 3
   },
   "file_extension": ".py",
   "mimetype": "text/x-python",
   "name": "python",
   "nbconvert_exporter": "python",
   "pygments_lexer": "ipython3",
   "version": "3.10.11"
  }
 },
 "nbformat": 4,
 "nbformat_minor": 4
}
